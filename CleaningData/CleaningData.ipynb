{
 "cells": [
  {
   "cell_type": "markdown",
   "id": "6525f6b3",
   "metadata": {},
   "source": [
    "# Cleaning Data"
   ]
  },
  {
   "cell_type": "code",
   "execution_count": 19,
   "id": "64bbbfaa",
   "metadata": {},
   "outputs": [
    {
     "name": "stdout",
     "output_type": "stream",
     "text": [
      "The highest sale is: PHP500.0\n",
      "The lowest sale is: PHP2.0\n",
      "The total sales is: PHP124430.0\n",
      "The average sale is: PHP248.86\n"
     ]
    }
   ],
   "source": [
    "with open('Sales.txt', 'r') as sales_file:\n",
    "    sales_dict = {}\n",
    "    \n",
    "    for line in sales_file:\n",
    "        sales = line.split()\n",
    "        \n",
    "        key = sales[0]\n",
    "        value = float(sales[1].lstrip(\"PHP\"))\n",
    "        \n",
    "        sales_dict[key] = value\n",
    "        \n",
    "print(f'The highest sale is: PHP{max(sales_dict.values())}')\n",
    "print(f'The lowest sale is: PHP{min(sales_dict.values())}')\n",
    "print(f'The total sales is: PHP{sum(sales_dict.values())}')\n",
    "print(f'The average sale is: PHP{sum(sales_dict.values())/len(sales_dict.values())}')\n",
    "    "
   ]
  }
 ],
 "metadata": {
  "kernelspec": {
   "display_name": "Python 3 (ipykernel)",
   "language": "python",
   "name": "python3"
  },
  "language_info": {
   "codemirror_mode": {
    "name": "ipython",
    "version": 3
   },
   "file_extension": ".py",
   "mimetype": "text/x-python",
   "name": "python",
   "nbconvert_exporter": "python",
   "pygments_lexer": "ipython3",
   "version": "3.11.7"
  }
 },
 "nbformat": 4,
 "nbformat_minor": 5
}
